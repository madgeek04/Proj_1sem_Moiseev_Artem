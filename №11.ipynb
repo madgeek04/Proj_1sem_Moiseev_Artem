{
  "nbformat": 4,
  "nbformat_minor": 0,
  "metadata": {
    "colab": {
      "name": "№11.ipynb",
      "provenance": [],
      "authorship_tag": "ABX9TyNomGgOGz3wmmZETMahwFbY",
      "include_colab_link": true
    },
    "kernelspec": {
      "name": "python3",
      "display_name": "Python 3"
    },
    "language_info": {
      "name": "python"
    }
  },
  "cells": [
    {
      "cell_type": "markdown",
      "metadata": {
        "id": "view-in-github",
        "colab_type": "text"
      },
      "source": [
        "<a href=\"https://colab.research.google.com/github/madgeek04/Proj_1sem_Moiseev_Artem/blob/master/%E2%84%9611.ipynb\" target=\"_parent\"><img src=\"https://colab.research.google.com/assets/colab-badge.svg\" alt=\"Open In Colab\"/></a>"
      ]
    },
    {
      "cell_type": "markdown",
      "source": [
        "Пратическая №3 №1"
      ],
      "metadata": {
        "id": "01orG-lEacho"
      }
    },
    {
      "cell_type": "code",
      "execution_count": 1,
      "metadata": {
        "colab": {
          "base_uri": "https://localhost:8080/"
        },
        "id": "EgJBOo89Z7ga",
        "outputId": "ba6ef206-91c5-41e2-cb81-0ed3a1902bc3"
      },
      "outputs": [
        {
          "output_type": "stream",
          "name": "stdout",
          "text": [
            "3\n",
            "5\n",
            "6\n",
            "True\n"
          ]
        }
      ],
      "source": [
        "a, b, c = int(input()), int(input()), int(input())\n",
        "if a > 0 or b > 0 or c > 0:\n",
        "    print(True)\n",
        "else:\n",
        "    print(False)"
      ]
    },
    {
      "cell_type": "markdown",
      "source": [
        "Практическая №4 №1"
      ],
      "metadata": {
        "id": "HKCZzBQratkx"
      }
    },
    {
      "cell_type": "code",
      "source": [
        "a, n = float(input()), int(input())\n",
        "s = 1\n",
        "for i in range(1, n + 1):\n",
        "    s += a ** i\n",
        "print(s)"
      ],
      "metadata": {
        "id": "b04Y3ioaa1hn"
      },
      "execution_count": null,
      "outputs": []
    },
    {
      "cell_type": "markdown",
      "source": [
        "Практическая №5 №1"
      ],
      "metadata": {
        "id": "pPY50R_VbAVf"
      }
    },
    {
      "cell_type": "code",
      "source": [
        "import secrets\n",
        "import string\n",
        "\n",
        "\n",
        "def generate_string(length):\n",
        "    a = string.ascii_letters + string.digits\n",
        "    b = ''.join(secrets.choice(a) for i in range(length))\n",
        "    print(b)\n",
        "\n",
        "\n",
        "generate_string(int(input()))"
      ],
      "metadata": {
        "colab": {
          "base_uri": "https://localhost:8080/"
        },
        "id": "Bh3jNda3bCdf",
        "outputId": "f23d8f84-59e5-4778-ca9f-2c010085fb31"
      },
      "execution_count": 2,
      "outputs": [
        {
          "output_type": "stream",
          "name": "stdout",
          "text": [
            "8\n",
            "Ob9JI2jb\n"
          ]
        }
      ]
    }
  ]
}